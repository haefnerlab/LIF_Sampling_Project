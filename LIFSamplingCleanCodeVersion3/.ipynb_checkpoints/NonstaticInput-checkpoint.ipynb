{
 "cells": [
  {
   "cell_type": "code",
   "execution_count": 1,
   "metadata": {
    "collapsed": true
   },
   "outputs": [],
   "source": [
    "from brian2 import *\n",
    "import numpy as np\n",
    "import array\n",
    "import scipy as sp\n",
    "import scipy.stats\n",
    "import itertools\n",
    "from itertools import combinations\n",
    "prefs.codegen.target='numpy' #important!! throws errors otherwise\n",
    "from scipy.misc import imshow\n",
    "from scipy.interpolate import splprep, splev\n",
    "import matplotlib.pyplot as plt\n",
    "from tempfile import TemporaryFile\n",
    "import scipy.io\n",
    "#from LIF_in_BRIAN import LIFSamplingModel\n",
    "from LIF_noisy_input import LIFSamplingModel\n",
    "from params_generate import *\n",
    "from image_as_comb_gabors import *\n",
    "from compute_CV import *\n",
    "from compute_FF import *\n",
    "from generate_RF import * \n",
    "from generate_images import *\n",
    "%matplotlib inline"
   ]
  },
  {
   "cell_type": "code",
   "execution_count": 2,
   "metadata": {
    "collapsed": false
   },
   "outputs": [
    {
     "name": "stdout",
     "output_type": "stream",
     "text": [
      "Code runs\n"
     ]
    }
   ],
   "source": [
    "from initial_script import *\n",
    "num_active = [100]\n",
    "num_im = len(num_active)\n",
    "print('Code runs')"
   ]
  },
  {
   "cell_type": "code",
   "execution_count": 3,
   "metadata": {
    "collapsed": false
   },
   "outputs": [
    {
     "name": "stdout",
     "output_type": "stream",
     "text": [
      "Creating population of 248 neurons\n",
      "Creating timer population\n",
      "Creating synapses\n",
      "Initialization done.\n",
      "LIF simulation with BRIAN is done!!\n"
     ]
    }
   ],
   "source": [
    "for n_im in range(num_im):\n",
    "    Image = Im_gen(num_active[n_im],params.G)\n",
    "    M = LIFSamplingModel(params.N, params.G, params.membrane_noise, params.prior, params.sigma_I, params.sampling_bin_s,verbose=True)\n",
    "    M.condition(Image)\n",
    "    spikes = M.simulate(monitor=[\"v\", \"P\", \"I\", \"psp\", \"FR\", \"is_active\"], timer_monitor=[\"a\", \"fired\"])\n",
    "    print('LIF simulation with BRIAN is done!!')"
   ]
  },
  {
   "cell_type": "code",
   "execution_count": 6,
   "metadata": {
    "collapsed": false
   },
   "outputs": [
    {
     "name": "stdout",
     "output_type": "stream",
     "text": [
      "CV computation done!!\n",
      "FF computation done!!\n"
     ]
    },
    {
     "data": {
      "text/plain": [
       "(array([ 0.,  0.,  0.,  0.,  0.,  0.,  0.,  0.,  0.,  0.,  0.,  0.,  0.,\n",
       "         0.,  0.,  0.,  0.,  0.,  0.,  0.,  0.,  0.,  0.,  0.,  0.,  0.,\n",
       "         0.,  0.,  0.,  0.,  0.,  0.,  0.,  0.,  0.,  0.,  0.,  0.,  0.,\n",
       "         0.,  0.,  0.,  0.,  0.,  0.,  0.,  0.,  0.,  0.,  0.]),\n",
       " array([ 0.  ,  0.02,  0.04,  0.06,  0.08,  0.1 ,  0.12,  0.14,  0.16,\n",
       "         0.18,  0.2 ,  0.22,  0.24,  0.26,  0.28,  0.3 ,  0.32,  0.34,\n",
       "         0.36,  0.38,  0.4 ,  0.42,  0.44,  0.46,  0.48,  0.5 ,  0.52,\n",
       "         0.54,  0.56,  0.58,  0.6 ,  0.62,  0.64,  0.66,  0.68,  0.7 ,\n",
       "         0.72,  0.74,  0.76,  0.78,  0.8 ,  0.82,  0.84,  0.86,  0.88,\n",
       "         0.9 ,  0.92,  0.94,  0.96,  0.98,  1.  ]),\n",
       " <a list of 50 Patch objects>)"
      ]
     },
     "execution_count": 6,
     "metadata": {},
     "output_type": "execute_result"
    }
   ],
   "source": [
    "times = np.array(spikes.t/ms)\n",
    "indices = np.array(spikes.i)\n",
    "CV = return_CV(params.N,times,indices)\n",
    "print('CV computation done!!')\n",
    "rcParams['figure.figsize'] = [12, 6] # wider figures from here on\n",
    "plt.figure()\n",
    "plt.hist(CV,50)\n",
    "FF = return_FF(params.N, times, spikes, params.duration, params.sampling_bin_ms,100)\n",
    "print('FF computation done!!')\n",
    "plt.figure()\n",
    "plt.hist(FF,50)"
   ]
  },
  {
   "cell_type": "code",
   "execution_count": 10,
   "metadata": {
    "collapsed": false
   },
   "outputs": [
    {
     "data": {
      "text/plain": [
       "(array([   0.,    0.,    0.,    0.,    0.,    0.,    0.,    0.,    0.,\n",
       "           0.,    0.,    0.,    0.,    0.,    0.,    0.,    0.,    0.,\n",
       "           0.,    0.,    0.,    0.,    0.,    0.,  248.,    0.,    0.,\n",
       "           0.,    0.,    0.,    0.,    0.,    0.,    0.,    0.,    0.,\n",
       "           0.,    0.,    0.,    0.,    0.,    0.,    0.,    0.,    0.,\n",
       "           0.,    0.,    0.,    0.,    0.]),\n",
       " array([ -5.00000000e-01,  -4.80000000e-01,  -4.60000000e-01,\n",
       "         -4.40000000e-01,  -4.20000000e-01,  -4.00000000e-01,\n",
       "         -3.80000000e-01,  -3.60000000e-01,  -3.40000000e-01,\n",
       "         -3.20000000e-01,  -3.00000000e-01,  -2.80000000e-01,\n",
       "         -2.60000000e-01,  -2.40000000e-01,  -2.20000000e-01,\n",
       "         -2.00000000e-01,  -1.80000000e-01,  -1.60000000e-01,\n",
       "         -1.40000000e-01,  -1.20000000e-01,  -1.00000000e-01,\n",
       "         -8.00000000e-02,  -6.00000000e-02,  -4.00000000e-02,\n",
       "         -2.00000000e-02,   3.25534044e-12,   2.00000000e-02,\n",
       "          4.00000000e-02,   6.00000000e-02,   8.00000000e-02,\n",
       "          1.00000000e-01,   1.20000000e-01,   1.40000000e-01,\n",
       "          1.60000000e-01,   1.80000000e-01,   2.00000000e-01,\n",
       "          2.20000000e-01,   2.40000000e-01,   2.60000000e-01,\n",
       "          2.80000000e-01,   3.00000000e-01,   3.20000000e-01,\n",
       "          3.40000000e-01,   3.60000000e-01,   3.80000000e-01,\n",
       "          4.00000000e-01,   4.20000000e-01,   4.40000000e-01,\n",
       "          4.60000000e-01,   4.80000000e-01,   5.00000000e-01]),\n",
       " <a list of 50 Patch objects>)"
      ]
     },
     "execution_count": 10,
     "metadata": {},
     "output_type": "execute_result"
    },
    {
     "data": {
      "image/png": "[encoded data removed]",
      "text/plain": [
       "<matplotlib.figure.Figure at 0x11e67be50>"
      ]
     },
     "metadata": {},
     "output_type": "display_data"
    }
   ],
   "source": []
  },
  {
   "cell_type": "code",
   "execution_count": null,
   "metadata": {
    "collapsed": false
   },
   "outputs": [
    {
     "name": "stdout",
     "output_type": "stream",
     "text": [
      "True marginal probabilities done\n"
     ]
    }
   ],
   "source": [
    "photo_noise=0.5\n",
    "from marginal_prob_efficient import *\n",
    "obj2 = marginal_p(N, pix, G, np.transpose(Image), np.sqrt(params.sigma_I**2+photo_noise**2), params.prior)\n",
    "sampling_p_marg = obj2.marg_prob_compute()\n",
    "print('True marginal probabilities done')\n",
    "from implied_marginal_prob import *\n",
    "window = params.sampling_bin_ms\n",
    "implied_p_marg = implied_marg_prob(params.N, params.duration, window, params.sampling_bin_ms, spikes.t/ms, spikes.i)\n",
    "print('Implied marginal probabilities done')\n",
    "print('Marginal probabilities done')"
   ]
  },
  {
   "cell_type": "code",
   "execution_count": null,
   "metadata": {
    "collapsed": true
   },
   "outputs": [],
   "source": [
    "from pairwise_joint_efficient import *\n",
    "obj1 = pairwise_p(params.N, params.pix, params.G, np.transpose(Image), np.sqrt(params.sigma_I^2+photo_noise^2), params.prior)\n",
    "sampling_p_pairwise = obj1.pairwise_prob_compute() \n",
    "print('True pairwise joint posterior probabilities done')\n",
    "from implied_pairwise_joint import *\n",
    "implied_p_pairwise = compute_impled_pairwise_p(spikes,spikes.t/ms,N,duration,sampling_bin_ms)\n",
    "print('Implied pairwise joint posterior probabilities done')\n",
    "print('Pairwise probabilities done')"
   ]
  },
  {
   "cell_type": "code",
   "execution_count": null,
   "metadata": {
    "collapsed": true
   },
   "outputs": [],
   "source": [
    "plt.figure()\n",
    "subplot(2,2,1)\n",
    "plt.hist(CV,50)\n",
    "plt.xlabel(\"Coefficient of Variation for InterSpikeIntervals\")\n",
    "plt.ylabel(\"Frequency\")\n",
    "\n",
    "subplot(2,2,2)\n",
    "plt.hist(FF,50)\n",
    "plt.xlabel(\"FanoFactor\")\n",
    "plt.ylabel(\"Frequency\")\n",
    "\n",
    "subplot(2,2,3)\n",
    "plt.scatter(sampling_p_pairwise, implied_p_pairwise, s=50)\n",
    "plt.plot(np.linspace(0,1 + 0.1,100),np.linspace(0,1 + 0.1,100),'k')     \n",
    "plt.xlim(-0.01,1.01)\n",
    "plt.ylim(-0.01,1.01)\n",
    "plt.xlabel(\"Sample pairwise joint posterior probability\")\n",
    "plt.ylabel(\"Implied pairwise joint posterior probability\")\n",
    "\n",
    "subplot(2,2,4)\n",
    "plt.scatter(sampling_p_marg, implied_p_marg, s=50)\n",
    "plt.plot(np.linspace(0,1 + 0.1,100),np.linspace(0,1 + 0.1,100),'k')     \n",
    "plt.xlim(-0.01,1.01)\n",
    "plt.ylim(-0.01,1.01)\n",
    "plt.xlabel(\"Sample marginal posterior probability\")\n",
    "plt.ylabel(\"Implied marginal posterior probability\")\n",
    "\n",
    "plt.title(\"Summary plot for %d active units in Image\" %(num_active[n_im]))"
   ]
  },
  {
   "cell_type": "code",
   "execution_count": null,
   "metadata": {
    "collapsed": true
   },
   "outputs": [],
   "source": []
  }
 ],
 "metadata": {
  "kernelspec": {
   "display_name": "Python 2",
   "language": "python",
   "name": "python2"
  },
  "language_info": {
   "codemirror_mode": {
    "name": "ipython",
    "version": 2
   },
   "file_extension": ".py",
   "mimetype": "text/x-python",
   "name": "python",
   "nbconvert_exporter": "python",
   "pygments_lexer": "ipython2",
   "version": "2.7.13"
  }
 },
 "nbformat": 4,
 "nbformat_minor": 2
}
